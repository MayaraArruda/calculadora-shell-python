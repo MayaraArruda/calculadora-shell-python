{
  "nbformat": 4,
  "nbformat_minor": 0,
  "metadata": {
    "colab": {
      "provenance": []
    },
    "kernelspec": {
      "name": "python3",
      "display_name": "Python 3"
    },
    "language_info": {
      "name": "python"
    }
  },
  "cells": [
    {
      "cell_type": "code",
      "execution_count": 6,
      "metadata": {
        "colab": {
          "base_uri": "https://localhost:8080/"
        },
        "id": "7gsIdWi-qV2D",
        "outputId": "dba67e81-34e3-4321-cb0d-fcda8c5c7dff"
      },
      "outputs": [
        {
          "output_type": "stream",
          "name": "stdout",
          "text": [
            "Digite o primeiro valor:10\n",
            "Digite o segundo valor:8\n",
            "Digite o operador desejado:-\n",
            "2\n"
          ]
        }
      ],
      "source": [
        "Valor1 = int(input(\"Digite o primeiro valor:\"))\n",
        "Valor2 = int(input(\"Digite o segundo valor:\"))\n",
        "Operador = input(\"Digite o operador desejado:\")\n",
        "for i in Operador:\n",
        "    if i == \"+\":\n",
        "        print(Valor1 + Valor2)\n",
        "    elif i == \"-\":\n",
        "        print(Valor1 - Valor2)\n",
        "    elif i == \"*\":\n",
        "        print(Valor1 * Valor2)\n",
        "    elif i == \"/\":\n",
        "        print(Valor1 / Valor2)\n",
        ""
      ]
    }
  ]
}